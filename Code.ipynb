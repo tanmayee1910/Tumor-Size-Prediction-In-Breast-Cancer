{
 "cells": [
  {
   "cell_type": "code",
   "execution_count": 1,
   "id": "f4207537",
   "metadata": {},
   "outputs": [],
   "source": [
    "import pandas as pd\n",
    "import numpy as np\n",
    "import matplotlib.pyplot as plt"
   ]
  },
  {
   "cell_type": "code",
   "execution_count": 2,
   "id": "767039fd",
   "metadata": {},
   "outputs": [
    {
     "data": {
      "text/html": [
       "<div>\n",
       "<style scoped>\n",
       "    .dataframe tbody tr th:only-of-type {\n",
       "        vertical-align: middle;\n",
       "    }\n",
       "\n",
       "    .dataframe tbody tr th {\n",
       "        vertical-align: top;\n",
       "    }\n",
       "\n",
       "    .dataframe thead th {\n",
       "        text-align: right;\n",
       "    }\n",
       "</style>\n",
       "<table border=\"1\" class=\"dataframe\">\n",
       "  <thead>\n",
       "    <tr style=\"text-align: right;\">\n",
       "      <th></th>\n",
       "      <th>ID</th>\n",
       "      <th>Outcome</th>\n",
       "      <th>Time</th>\n",
       "      <th>Mean Radius</th>\n",
       "      <th>Mean Texture</th>\n",
       "      <th>Mean Perimeter</th>\n",
       "      <th>Mean Area</th>\n",
       "      <th>Mean Smoothness</th>\n",
       "      <th>Mean Compactness</th>\n",
       "      <th>Mean Concavity</th>\n",
       "      <th>...</th>\n",
       "      <th>Worst Perimeter</th>\n",
       "      <th>Worst Area</th>\n",
       "      <th>Worst Smoothness</th>\n",
       "      <th>Worst Compactness</th>\n",
       "      <th>Worst Concavity</th>\n",
       "      <th>Worst Concave Points</th>\n",
       "      <th>Worst Symmetry</th>\n",
       "      <th>Worst Fractal Dimension</th>\n",
       "      <th>Tumor Size</th>\n",
       "      <th>Lymph Node Status</th>\n",
       "    </tr>\n",
       "  </thead>\n",
       "  <tbody>\n",
       "    <tr>\n",
       "      <th>0</th>\n",
       "      <td>119513</td>\n",
       "      <td>N</td>\n",
       "      <td>31</td>\n",
       "      <td>18.02</td>\n",
       "      <td>27.60</td>\n",
       "      <td>117.50</td>\n",
       "      <td>1013.0</td>\n",
       "      <td>0.09489</td>\n",
       "      <td>0.10360</td>\n",
       "      <td>0.10860</td>\n",
       "      <td>...</td>\n",
       "      <td>139.70</td>\n",
       "      <td>1436.0</td>\n",
       "      <td>0.11950</td>\n",
       "      <td>0.1926</td>\n",
       "      <td>0.3140</td>\n",
       "      <td>0.11700</td>\n",
       "      <td>0.2677</td>\n",
       "      <td>0.08113</td>\n",
       "      <td>5.0</td>\n",
       "      <td>5.0</td>\n",
       "    </tr>\n",
       "    <tr>\n",
       "      <th>1</th>\n",
       "      <td>8423</td>\n",
       "      <td>N</td>\n",
       "      <td>61</td>\n",
       "      <td>17.99</td>\n",
       "      <td>10.38</td>\n",
       "      <td>122.80</td>\n",
       "      <td>1001.0</td>\n",
       "      <td>0.11840</td>\n",
       "      <td>0.27760</td>\n",
       "      <td>0.30010</td>\n",
       "      <td>...</td>\n",
       "      <td>184.60</td>\n",
       "      <td>2019.0</td>\n",
       "      <td>0.16220</td>\n",
       "      <td>0.6656</td>\n",
       "      <td>0.7119</td>\n",
       "      <td>0.26540</td>\n",
       "      <td>0.4601</td>\n",
       "      <td>0.11890</td>\n",
       "      <td>3.0</td>\n",
       "      <td>2.0</td>\n",
       "    </tr>\n",
       "    <tr>\n",
       "      <th>2</th>\n",
       "      <td>842517</td>\n",
       "      <td>N</td>\n",
       "      <td>116</td>\n",
       "      <td>21.37</td>\n",
       "      <td>17.44</td>\n",
       "      <td>137.50</td>\n",
       "      <td>1373.0</td>\n",
       "      <td>0.08836</td>\n",
       "      <td>0.11890</td>\n",
       "      <td>0.12550</td>\n",
       "      <td>...</td>\n",
       "      <td>159.10</td>\n",
       "      <td>1949.0</td>\n",
       "      <td>0.11880</td>\n",
       "      <td>0.3449</td>\n",
       "      <td>0.3414</td>\n",
       "      <td>0.20320</td>\n",
       "      <td>0.4334</td>\n",
       "      <td>0.09067</td>\n",
       "      <td>2.5</td>\n",
       "      <td>0.0</td>\n",
       "    </tr>\n",
       "    <tr>\n",
       "      <th>3</th>\n",
       "      <td>843483</td>\n",
       "      <td>N</td>\n",
       "      <td>123</td>\n",
       "      <td>11.42</td>\n",
       "      <td>20.38</td>\n",
       "      <td>77.58</td>\n",
       "      <td>386.1</td>\n",
       "      <td>0.14250</td>\n",
       "      <td>0.28390</td>\n",
       "      <td>0.24140</td>\n",
       "      <td>...</td>\n",
       "      <td>98.87</td>\n",
       "      <td>567.7</td>\n",
       "      <td>0.20980</td>\n",
       "      <td>0.8663</td>\n",
       "      <td>0.6869</td>\n",
       "      <td>0.25750</td>\n",
       "      <td>0.6638</td>\n",
       "      <td>0.17300</td>\n",
       "      <td>2.0</td>\n",
       "      <td>0.0</td>\n",
       "    </tr>\n",
       "    <tr>\n",
       "      <th>4</th>\n",
       "      <td>843584</td>\n",
       "      <td>R</td>\n",
       "      <td>27</td>\n",
       "      <td>20.29</td>\n",
       "      <td>14.34</td>\n",
       "      <td>135.10</td>\n",
       "      <td>1297.0</td>\n",
       "      <td>0.10030</td>\n",
       "      <td>0.13280</td>\n",
       "      <td>0.19800</td>\n",
       "      <td>...</td>\n",
       "      <td>152.20</td>\n",
       "      <td>1575.0</td>\n",
       "      <td>0.13740</td>\n",
       "      <td>0.2050</td>\n",
       "      <td>0.4000</td>\n",
       "      <td>0.16250</td>\n",
       "      <td>0.2364</td>\n",
       "      <td>0.07678</td>\n",
       "      <td>3.5</td>\n",
       "      <td>0.0</td>\n",
       "    </tr>\n",
       "    <tr>\n",
       "      <th>...</th>\n",
       "      <td>...</td>\n",
       "      <td>...</td>\n",
       "      <td>...</td>\n",
       "      <td>...</td>\n",
       "      <td>...</td>\n",
       "      <td>...</td>\n",
       "      <td>...</td>\n",
       "      <td>...</td>\n",
       "      <td>...</td>\n",
       "      <td>...</td>\n",
       "      <td>...</td>\n",
       "      <td>...</td>\n",
       "      <td>...</td>\n",
       "      <td>...</td>\n",
       "      <td>...</td>\n",
       "      <td>...</td>\n",
       "      <td>...</td>\n",
       "      <td>...</td>\n",
       "      <td>...</td>\n",
       "      <td>...</td>\n",
       "      <td>...</td>\n",
       "    </tr>\n",
       "    <tr>\n",
       "      <th>193</th>\n",
       "      <td>942640</td>\n",
       "      <td>N</td>\n",
       "      <td>10</td>\n",
       "      <td>22.52</td>\n",
       "      <td>21.92</td>\n",
       "      <td>146.90</td>\n",
       "      <td>1597.0</td>\n",
       "      <td>0.07592</td>\n",
       "      <td>0.09162</td>\n",
       "      <td>0.06862</td>\n",
       "      <td>...</td>\n",
       "      <td>162.10</td>\n",
       "      <td>1902.0</td>\n",
       "      <td>0.08191</td>\n",
       "      <td>0.1319</td>\n",
       "      <td>0.1056</td>\n",
       "      <td>0.09378</td>\n",
       "      <td>0.2061</td>\n",
       "      <td>0.05788</td>\n",
       "      <td>6.0</td>\n",
       "      <td>2.0</td>\n",
       "    </tr>\n",
       "    <tr>\n",
       "      <th>194</th>\n",
       "      <td>943471</td>\n",
       "      <td>N</td>\n",
       "      <td>8</td>\n",
       "      <td>15.44</td>\n",
       "      <td>31.18</td>\n",
       "      <td>101.00</td>\n",
       "      <td>740.4</td>\n",
       "      <td>0.09399</td>\n",
       "      <td>0.10620</td>\n",
       "      <td>0.13750</td>\n",
       "      <td>...</td>\n",
       "      <td>112.60</td>\n",
       "      <td>929.0</td>\n",
       "      <td>0.12720</td>\n",
       "      <td>0.2362</td>\n",
       "      <td>0.2975</td>\n",
       "      <td>0.12860</td>\n",
       "      <td>0.2914</td>\n",
       "      <td>0.08024</td>\n",
       "      <td>1.5</td>\n",
       "      <td>0.0</td>\n",
       "    </tr>\n",
       "    <tr>\n",
       "      <th>195</th>\n",
       "      <td>94547</td>\n",
       "      <td>N</td>\n",
       "      <td>12</td>\n",
       "      <td>17.17</td>\n",
       "      <td>29.19</td>\n",
       "      <td>110.00</td>\n",
       "      <td>915.3</td>\n",
       "      <td>0.08952</td>\n",
       "      <td>0.06655</td>\n",
       "      <td>0.06583</td>\n",
       "      <td>...</td>\n",
       "      <td>132.50</td>\n",
       "      <td>1295.0</td>\n",
       "      <td>0.12610</td>\n",
       "      <td>0.1572</td>\n",
       "      <td>0.2141</td>\n",
       "      <td>0.09520</td>\n",
       "      <td>0.3362</td>\n",
       "      <td>0.06033</td>\n",
       "      <td>3.7</td>\n",
       "      <td>0.0</td>\n",
       "    </tr>\n",
       "    <tr>\n",
       "      <th>196</th>\n",
       "      <td>947204</td>\n",
       "      <td>R</td>\n",
       "      <td>3</td>\n",
       "      <td>21.42</td>\n",
       "      <td>22.84</td>\n",
       "      <td>145.00</td>\n",
       "      <td>1440.0</td>\n",
       "      <td>0.10700</td>\n",
       "      <td>0.19390</td>\n",
       "      <td>0.23800</td>\n",
       "      <td>...</td>\n",
       "      <td>198.30</td>\n",
       "      <td>2375.0</td>\n",
       "      <td>0.14980</td>\n",
       "      <td>0.4379</td>\n",
       "      <td>0.5411</td>\n",
       "      <td>0.22150</td>\n",
       "      <td>0.2832</td>\n",
       "      <td>0.08981</td>\n",
       "      <td>3.0</td>\n",
       "      <td>NaN</td>\n",
       "    </tr>\n",
       "    <tr>\n",
       "      <th>197</th>\n",
       "      <td>947489</td>\n",
       "      <td>N</td>\n",
       "      <td>6</td>\n",
       "      <td>16.70</td>\n",
       "      <td>28.13</td>\n",
       "      <td>110.30</td>\n",
       "      <td>885.4</td>\n",
       "      <td>0.08896</td>\n",
       "      <td>0.11310</td>\n",
       "      <td>0.10120</td>\n",
       "      <td>...</td>\n",
       "      <td>128.80</td>\n",
       "      <td>1213.0</td>\n",
       "      <td>0.13300</td>\n",
       "      <td>0.2808</td>\n",
       "      <td>0.3455</td>\n",
       "      <td>0.13170</td>\n",
       "      <td>0.3035</td>\n",
       "      <td>0.08036</td>\n",
       "      <td>3.5</td>\n",
       "      <td>0.0</td>\n",
       "    </tr>\n",
       "  </tbody>\n",
       "</table>\n",
       "<p>198 rows × 35 columns</p>\n",
       "</div>"
      ],
      "text/plain": [
       "         ID Outcome  Time  Mean Radius  Mean Texture  Mean Perimeter  \\\n",
       "0    119513       N    31        18.02         27.60          117.50   \n",
       "1      8423       N    61        17.99         10.38          122.80   \n",
       "2    842517       N   116        21.37         17.44          137.50   \n",
       "3    843483       N   123        11.42         20.38           77.58   \n",
       "4    843584       R    27        20.29         14.34          135.10   \n",
       "..      ...     ...   ...          ...           ...             ...   \n",
       "193  942640       N    10        22.52         21.92          146.90   \n",
       "194  943471       N     8        15.44         31.18          101.00   \n",
       "195   94547       N    12        17.17         29.19          110.00   \n",
       "196  947204       R     3        21.42         22.84          145.00   \n",
       "197  947489       N     6        16.70         28.13          110.30   \n",
       "\n",
       "     Mean Area  Mean Smoothness  Mean Compactness  Mean Concavity  ...  \\\n",
       "0       1013.0          0.09489           0.10360         0.10860  ...   \n",
       "1       1001.0          0.11840           0.27760         0.30010  ...   \n",
       "2       1373.0          0.08836           0.11890         0.12550  ...   \n",
       "3        386.1          0.14250           0.28390         0.24140  ...   \n",
       "4       1297.0          0.10030           0.13280         0.19800  ...   \n",
       "..         ...              ...               ...             ...  ...   \n",
       "193     1597.0          0.07592           0.09162         0.06862  ...   \n",
       "194      740.4          0.09399           0.10620         0.13750  ...   \n",
       "195      915.3          0.08952           0.06655         0.06583  ...   \n",
       "196     1440.0          0.10700           0.19390         0.23800  ...   \n",
       "197      885.4          0.08896           0.11310         0.10120  ...   \n",
       "\n",
       "     Worst Perimeter  Worst Area  Worst Smoothness  Worst Compactness  \\\n",
       "0             139.70      1436.0           0.11950             0.1926   \n",
       "1             184.60      2019.0           0.16220             0.6656   \n",
       "2             159.10      1949.0           0.11880             0.3449   \n",
       "3              98.87       567.7           0.20980             0.8663   \n",
       "4             152.20      1575.0           0.13740             0.2050   \n",
       "..               ...         ...               ...                ...   \n",
       "193           162.10      1902.0           0.08191             0.1319   \n",
       "194           112.60       929.0           0.12720             0.2362   \n",
       "195           132.50      1295.0           0.12610             0.1572   \n",
       "196           198.30      2375.0           0.14980             0.4379   \n",
       "197           128.80      1213.0           0.13300             0.2808   \n",
       "\n",
       "     Worst Concavity  Worst Concave Points  Worst Symmetry  \\\n",
       "0             0.3140               0.11700          0.2677   \n",
       "1             0.7119               0.26540          0.4601   \n",
       "2             0.3414               0.20320          0.4334   \n",
       "3             0.6869               0.25750          0.6638   \n",
       "4             0.4000               0.16250          0.2364   \n",
       "..               ...                   ...             ...   \n",
       "193           0.1056               0.09378          0.2061   \n",
       "194           0.2975               0.12860          0.2914   \n",
       "195           0.2141               0.09520          0.3362   \n",
       "196           0.5411               0.22150          0.2832   \n",
       "197           0.3455               0.13170          0.3035   \n",
       "\n",
       "     Worst Fractal Dimension  Tumor Size  Lymph Node Status  \n",
       "0                    0.08113         5.0                5.0  \n",
       "1                    0.11890         3.0                2.0  \n",
       "2                    0.09067         2.5                0.0  \n",
       "3                    0.17300         2.0                0.0  \n",
       "4                    0.07678         3.5                0.0  \n",
       "..                       ...         ...                ...  \n",
       "193                  0.05788         6.0                2.0  \n",
       "194                  0.08024         1.5                0.0  \n",
       "195                  0.06033         3.7                0.0  \n",
       "196                  0.08981         3.0                NaN  \n",
       "197                  0.08036         3.5                0.0  \n",
       "\n",
       "[198 rows x 35 columns]"
      ]
     },
     "execution_count": 2,
     "metadata": {},
     "output_type": "execute_result"
    }
   ],
   "source": [
    "data = pd.read_csv(r\"C:\\Users\\Tanmayee\\OneDrive\\Documents\\Personal\\Inifinte Solutions\\ID 3092\\cancer_dataset_wpbc.csv\")\n",
    "data"
   ]
  },
  {
   "cell_type": "code",
   "execution_count": 3,
   "id": "b744c312",
   "metadata": {},
   "outputs": [
    {
     "name": "stdout",
     "output_type": "stream",
     "text": [
      "<class 'pandas.core.frame.DataFrame'>\n",
      "RangeIndex: 198 entries, 0 to 197\n",
      "Data columns (total 35 columns):\n",
      " #   Column                   Non-Null Count  Dtype  \n",
      "---  ------                   --------------  -----  \n",
      " 0   ID                       198 non-null    int64  \n",
      " 1   Outcome                  198 non-null    object \n",
      " 2   Time                     198 non-null    int64  \n",
      " 3   Mean Radius              198 non-null    float64\n",
      " 4   Mean Texture             198 non-null    float64\n",
      " 5   Mean Perimeter           198 non-null    float64\n",
      " 6   Mean Area                198 non-null    float64\n",
      " 7   Mean Smoothness          198 non-null    float64\n",
      " 8   Mean Compactness         198 non-null    float64\n",
      " 9   Mean Concavity           198 non-null    float64\n",
      " 10  Mean Concave Points      198 non-null    float64\n",
      " 11  Mean Symmetry            198 non-null    float64\n",
      " 12  Mean Fractal Dimension   198 non-null    float64\n",
      " 13  SE Radius                198 non-null    float64\n",
      " 14  SE Texture               198 non-null    float64\n",
      " 15  SE Perimeter             198 non-null    float64\n",
      " 16  SE Area                  198 non-null    float64\n",
      " 17  SE Smoothness            198 non-null    float64\n",
      " 18  SE Compactness           198 non-null    float64\n",
      " 19  SE Concavity             198 non-null    float64\n",
      " 20  SE Concave Points        198 non-null    float64\n",
      " 21  SE Symmetry              198 non-null    float64\n",
      " 22  SE Fractal Dimension     198 non-null    float64\n",
      " 23  Worst Radius             198 non-null    float64\n",
      " 24  Worst Texture            198 non-null    float64\n",
      " 25  Worst Perimeter          198 non-null    float64\n",
      " 26  Worst Area               198 non-null    float64\n",
      " 27  Worst Smoothness         198 non-null    float64\n",
      " 28  Worst Compactness        198 non-null    float64\n",
      " 29  Worst Concavity          198 non-null    float64\n",
      " 30  Worst Concave Points     198 non-null    float64\n",
      " 31  Worst Symmetry           198 non-null    float64\n",
      " 32  Worst Fractal Dimension  198 non-null    float64\n",
      " 33  Tumor Size               198 non-null    float64\n",
      " 34  Lymph Node Status        194 non-null    float64\n",
      "dtypes: float64(32), int64(2), object(1)\n",
      "memory usage: 54.3+ KB\n"
     ]
    }
   ],
   "source": [
    "data.info()"
   ]
  },
  {
   "cell_type": "code",
   "execution_count": 4,
   "id": "01e1346f",
   "metadata": {},
   "outputs": [
    {
     "name": "stdout",
     "output_type": "stream",
     "text": [
      "Column 'Lymph Node Status' has 4 missing values.\n",
      "Total missing values in the dataset: 4\n"
     ]
    }
   ],
   "source": [
    "# Assuming your dataset is loaded into a DataFrame called 'dataset'\n",
    "# Check for missing values in each column\n",
    "missing_values = data.isnull().sum()\n",
    "\n",
    "# Print the columns with missing values (if any) and the corresponding count\n",
    "for column, count in missing_values.items():\n",
    "    if count > 0:\n",
    "        print(f\"Column '{column}' has {count} missing values.\")\n",
    "\n",
    "# Alternatively, you can print the total count of missing values in the entire dataset\n",
    "total_missing_values = missing_values.sum()\n",
    "print(f\"Total missing values in the dataset: {total_missing_values}\")"
   ]
  },
  {
   "cell_type": "code",
   "execution_count": 5,
   "id": "7b2fb8cb",
   "metadata": {},
   "outputs": [
    {
     "name": "stdout",
     "output_type": "stream",
     "text": [
      "Missing values after filling:\n",
      "ID                         0\n",
      "Outcome                    0\n",
      "Time                       0\n",
      "Mean Radius                0\n",
      "Mean Texture               0\n",
      "Mean Perimeter             0\n",
      "Mean Area                  0\n",
      "Mean Smoothness            0\n",
      "Mean Compactness           0\n",
      "Mean Concavity             0\n",
      "Mean Concave Points        0\n",
      "Mean Symmetry              0\n",
      "Mean Fractal Dimension     0\n",
      "SE Radius                  0\n",
      "SE Texture                 0\n",
      "SE Perimeter               0\n",
      "SE Area                    0\n",
      "SE Smoothness              0\n",
      "SE Compactness             0\n",
      "SE Concavity               0\n",
      "SE Concave Points          0\n",
      "SE Symmetry                0\n",
      "SE Fractal Dimension       0\n",
      "Worst Radius               0\n",
      "Worst Texture              0\n",
      "Worst Perimeter            0\n",
      "Worst Area                 0\n",
      "Worst Smoothness           0\n",
      "Worst Compactness          0\n",
      "Worst Concavity            0\n",
      "Worst Concave Points       0\n",
      "Worst Symmetry             0\n",
      "Worst Fractal Dimension    0\n",
      "Tumor Size                 0\n",
      "Lymph Node Status          0\n",
      "dtype: int64\n"
     ]
    },
    {
     "name": "stderr",
     "output_type": "stream",
     "text": [
      "C:\\Users\\Tanmayee\\AppData\\Local\\Temp\\ipykernel_3004\\2820287794.py:2: FutureWarning: Dropping of nuisance columns in DataFrame reductions (with 'numeric_only=None') is deprecated; in a future version this will raise TypeError.  Select only valid columns before calling the reduction.\n",
      "  data.fillna(data.mean(), inplace=True)\n"
     ]
    }
   ],
   "source": [
    "# Fill missing values with the mean of each column (you can use other strategies as needed)\n",
    "data.fillna(data.mean(), inplace=True)\n",
    "\n",
    "# Verify that missing values have been filled\n",
    "missing_values_after_fill = data.isnull().sum()\n",
    "print(\"Missing values after filling:\")\n",
    "print(missing_values_after_fill)"
   ]
  },
  {
   "cell_type": "markdown",
   "id": "072a25d8",
   "metadata": {},
   "source": [
    "### Gradient Descent"
   ]
  },
  {
   "cell_type": "code",
   "execution_count": 6,
   "id": "8e129fd9",
   "metadata": {},
   "outputs": [],
   "source": [
    "# Define the cost function (mean squared error)\n",
    "def compute_cost(X, y, theta):\n",
    "    m = len(y)\n",
    "    predictions = X.dot(theta)\n",
    "    cost = np.sum((predictions - y) ** 2) / (2 * m)\n",
    "    return cost"
   ]
  },
  {
   "cell_type": "code",
   "execution_count": 7,
   "id": "150fb3d4",
   "metadata": {},
   "outputs": [],
   "source": [
    "# Implement the Gradient Descent algorithm\n",
    "def gradient_descent(X, y, theta, learning_rate, num_iterations):\n",
    "    m = len(y)\n",
    "    cost_history = []\n",
    "\n",
    "    for i in range(num_iterations):\n",
    "        gradient = (1 / m) * X.T.dot(X.dot(theta) - y)\n",
    "        theta -= learning_rate * gradient\n",
    "        cost = compute_cost(X, y, theta)\n",
    "        cost_history.append(cost)\n",
    "\n",
    "    return theta, cost_history"
   ]
  },
  {
   "cell_type": "code",
   "execution_count": 8,
   "id": "062ea6a0",
   "metadata": {},
   "outputs": [],
   "source": [
    "# Generate some sample data (replace this with your dataset)\n",
    "np.random.seed(0)\n",
    "X = 2 * np.random.rand(100, 1)\n",
    "y = 4 + 3 * X + np.random.randn(100, 1)\n",
    "\n",
    "# Add a bias term (intercept) to the feature matrix\n",
    "X_b = np.c_[np.ones((100, 1)), X]\n",
    "\n",
    "# Initialize the model parameters (coefficients)\n",
    "theta_initial = np.random.randn(2, 1)"
   ]
  },
  {
   "cell_type": "code",
   "execution_count": 9,
   "id": "ee6604df",
   "metadata": {},
   "outputs": [
    {
     "name": "stdout",
     "output_type": "stream",
     "text": [
      "Optimal Parameters (Theta): [[4.22215104]\n",
      " [2.96846754]]\n"
     ]
    }
   ],
   "source": [
    "# Set hyperparameters\n",
    "learning_rate = 0.1\n",
    "num_iterations = 1000\n",
    "\n",
    "# Perform Gradient Descent to find the optimal parameters\n",
    "optimal_theta, cost_history = gradient_descent(X_b, y, theta_initial, learning_rate, num_iterations)\n",
    "\n",
    "# Print the optimal parameters\n",
    "print(\"Optimal Parameters (Theta):\", optimal_theta)"
   ]
  },
  {
   "cell_type": "code",
   "execution_count": 10,
   "id": "93a6af81",
   "metadata": {},
   "outputs": [
    {
     "data": {
      "image/png": "[encoded data removed]",
      "text/plain": [
       "<Figure size 640x480 with 1 Axes>"
      ]
     },
     "metadata": {},
     "output_type": "display_data"
    }
   ],
   "source": [
    "# Plot the cost history to visualize convergence\n",
    "plt.plot(cost_history)\n",
    "plt.xlabel(\"Iterations\")\n",
    "plt.ylabel(\"Cost (Mean Squared Error)\")\n",
    "plt.title(\"Gradient Descent Convergence\")\n",
    "plt.show()"
   ]
  },
  {
   "cell_type": "markdown",
   "id": "f3bab95d",
   "metadata": {},
   "source": [
    "# Linear Regression with One Variables"
   ]
  },
  {
   "cell_type": "markdown",
   "id": "a0addbd8",
   "metadata": {},
   "source": [
    "### Q.1)A)  Implement linear regression to predict tumor size (Tumor Size) using “Mean Texture” feature from dataset. “Tumor Size” will be the target variable."
   ]
  },
  {
   "cell_type": "code",
   "execution_count": 11,
   "id": "614134f7",
   "metadata": {},
   "outputs": [],
   "source": [
    "# Extract \"Mean Texture\" and \"Tumor Size\" columns\n",
    "mean_texture = data['Mean Texture'].values\n",
    "tumor_size = data['Tumor Size'].values"
   ]
  },
  {
   "cell_type": "code",
   "execution_count": 12,
   "id": "b809b150",
   "metadata": {},
   "outputs": [],
   "source": [
    "# Normalize the input features\n",
    "mean_texture = (mean_texture - np.mean(mean_texture)) / np.std(mean_texture)\n",
    "tumor_size = (tumor_size - np.mean(tumor_size)) / np.std(tumor_size)"
   ]
  },
  {
   "cell_type": "code",
   "execution_count": 13,
   "id": "3d306a29",
   "metadata": {},
   "outputs": [],
   "source": [
    "# Split the data into training and testing sets (e.g., 80% train, 20% test)\n",
    "train_size = int(0.8 * len(mean_texture))\n",
    "X_train, X_test = mean_texture[:train_size], mean_texture[train_size:]\n",
    "y_train, y_test = tumor_size[:train_size], tumor_size[train_size:]"
   ]
  },
  {
   "cell_type": "code",
   "execution_count": 14,
   "id": "8f588b53",
   "metadata": {},
   "outputs": [],
   "source": [
    "# Step 2: Linear Regression Model\n",
    "def linear_regression(X, y, learning_rate, num_iterations):\n",
    "    m, b = 0.1, 0.1  # Initialize model parameters (small values)\n",
    "    n = len(X)  # Number of data points\n",
    "\n",
    "    for _ in range(num_iterations):\n",
    "        # Predicted values\n",
    "        y_pred = m * X + b\n",
    "\n",
    "        # Calculate gradients\n",
    "        dm = (-2/n) * np.sum(X * (y - y_pred))\n",
    "        db = (-2/n) * np.sum(y - y_pred)\n",
    "\n",
    "        # Update parameters using gradient descent\n",
    "        m -= learning_rate * dm\n",
    "        b -= learning_rate * db\n",
    "\n",
    "    return m, b"
   ]
  },
  {
   "cell_type": "code",
   "execution_count": 15,
   "id": "8d438818",
   "metadata": {},
   "outputs": [],
   "source": [
    "# Step 3: Training\n",
    "learning_rate = 0.1\n",
    "num_iterations = 1000\n",
    "m, b = linear_regression(X_train, y_train, learning_rate, num_iterations)"
   ]
  },
  {
   "cell_type": "code",
   "execution_count": 16,
   "id": "d1d2183c",
   "metadata": {},
   "outputs": [],
   "source": [
    "# Step 4: Evaluation\n",
    "# Calculate Mean Squared Error (MSE)\n",
    "mse = np.mean((y_test - (m * X_test + b))**2)"
   ]
  },
  {
   "cell_type": "code",
   "execution_count": 17,
   "id": "7e165f55",
   "metadata": {},
   "outputs": [],
   "source": [
    "# Calculate R-squared (R²)\n",
    "total_variation = np.sum((y_test - np.mean(y_test))**2)\n",
    "explained_variation = np.sum((m * X_test + b - np.mean(y_test))**2)\n",
    "r_squared = explained_variation / total_variation"
   ]
  },
  {
   "cell_type": "code",
   "execution_count": 18,
   "id": "bc2927f3",
   "metadata": {},
   "outputs": [],
   "source": [
    "# Calculate Adjusted R-squared (Adjusted R²)\n",
    "n = len(X_test)\n",
    "adjusted_r_squared = 1 - (1 - r_squared) * (n - 1) / (n - 2)"
   ]
  },
  {
   "cell_type": "markdown",
   "id": "7437b39d",
   "metadata": {},
   "source": [
    "### Q.1)B) Evaluate performance using metrics (such as Mean Squared Error (MSE), R-squared (R²), and Adjusted R-squared (Adjusted R²). You may also use graphs for explaining your observations."
   ]
  },
  {
   "cell_type": "code",
   "execution_count": 19,
   "id": "aa51157a",
   "metadata": {},
   "outputs": [
    {
     "name": "stdout",
     "output_type": "stream",
     "text": [
      "Mean Squared Error (MSE): 0.997234721534659\n",
      "R-squared (R²): 0.0335036898249804\n",
      "Adjusted R-squared (Adjusted R²): 0.008069576399321932\n"
     ]
    }
   ],
   "source": [
    "# Print the results\n",
    "print(\"Mean Squared Error (MSE):\", mse)\n",
    "print(\"R-squared (R²):\", r_squared)\n",
    "print(\"Adjusted R-squared (Adjusted R²):\", adjusted_r_squared)"
   ]
  },
  {
   "cell_type": "code",
   "execution_count": 20,
   "id": "9f42c4d2",
   "metadata": {},
   "outputs": [
    {
     "data": {
      "image/png": "[encoded data removed]",
      "text/plain": [
       "<Figure size 640x480 with 1 Axes>"
      ]
     },
     "metadata": {},
     "output_type": "display_data"
    }
   ],
   "source": [
    "# Plot the regression line and data points\n",
    "plt.scatter(X_test, y_test, label='Data Points')\n",
    "plt.plot(X_test, m * X_test + b, color='red', label='Regression Line')\n",
    "plt.xlabel('Mean Texture')\n",
    "plt.ylabel('Tumor Size')\n",
    "plt.legend()\n",
    "plt.show()"
   ]
  },
  {
   "cell_type": "markdown",
   "id": "7d31d771",
   "metadata": {},
   "source": [
    "# Linear Regression with Two Variables"
   ]
  },
  {
   "cell_type": "markdown",
   "id": "b69a6b3f",
   "metadata": {},
   "source": [
    "### Q.2) A) Add 'Lymph Node Status' as an additional input feature to the previous linear regression model. Does adding this feature improve the performance of the model? Compare the performance of the models in Question 1 and Question 2 using evaluation metrics (such as Mean Squared Error (MSE), R-squared (R²), and Adjusted R-squared (Adjusted R²). You may also use graphs for explaining yourobservations"
   ]
  },
  {
   "cell_type": "code",
   "execution_count": 21,
   "id": "d77f8c23",
   "metadata": {},
   "outputs": [],
   "source": [
    "# Extract \"Mean Texture,\" \"Lymph Node Status,\" and \"Tumor Size\" columns\n",
    "mean_texture = data['Mean Texture'].values\n",
    "lymph_node_status = data['Lymph Node Status'].values\n",
    "tumor_size = data['Tumor Size'].values"
   ]
  },
  {
   "cell_type": "code",
   "execution_count": 22,
   "id": "93dd2f40",
   "metadata": {},
   "outputs": [],
   "source": [
    "# Normalize the input features\n",
    "mean_texture = (mean_texture - np.mean(mean_texture)) / np.std(mean_texture)\n",
    "lymph_node_status = (lymph_node_status - np.mean(lymph_node_status)) / np.std(lymph_node_status)\n",
    "tumor_size = (tumor_size - np.mean(tumor_size)) / np.std(tumor_size)"
   ]
  },
  {
   "cell_type": "code",
   "execution_count": 23,
   "id": "a4bf2838",
   "metadata": {},
   "outputs": [],
   "source": [
    "# Split the data into training and testing sets (e.g., 80% train, 20% test)\n",
    "train_size = int(0.8 * len(mean_texture))\n",
    "X_train1, X_test1 = mean_texture[:train_size], mean_texture[train_size:]\n",
    "X_train2, X_test2 = lymph_node_status[:train_size], lymph_node_status[train_size:]\n",
    "y_train, y_test = tumor_size[:train_size], tumor_size[train_size:]"
   ]
  },
  {
   "cell_type": "code",
   "execution_count": 24,
   "id": "cf046050",
   "metadata": {},
   "outputs": [],
   "source": [
    "# Step 2: Linear Regression Model with Two Variables\n",
    "def linear_regression(X1, X2, y, learning_rate, num_iterations):\n",
    "    m1, m2, b = 0.1, 0.1, 0.1  # Initialize model parameters (small values)\n",
    "    n = len(X1)  # Number of data points\n",
    "\n",
    "    for _ in range(num_iterations):\n",
    "        # Predicted values\n",
    "        y_pred = m1 * X1 + m2 * X2 + b\n",
    "\n",
    "        # Calculate gradients\n",
    "        dm1 = (-2/n) * np.sum(X1 * (y - y_pred))\n",
    "        dm2 = (-2/n) * np.sum(X2 * (y - y_pred))\n",
    "        db = (-2/n) * np.sum(y - y_pred)\n",
    "\n",
    "        # Update parameters using gradient descent\n",
    "        m1 -= learning_rate * dm1\n",
    "        m2 -= learning_rate * dm2\n",
    "        b -= learning_rate * db\n",
    "\n",
    "    return m1, m2, b"
   ]
  },
  {
   "cell_type": "code",
   "execution_count": 25,
   "id": "edc488a8",
   "metadata": {},
   "outputs": [],
   "source": [
    "# Step 3: Training\n",
    "learning_rate = 0.01  # Adjust the learning rate as needed\n",
    "num_iterations = 1000\n",
    "m1, m2, b = linear_regression(X_train1, X_train2, y_train, learning_rate, num_iterations)"
   ]
  },
  {
   "cell_type": "code",
   "execution_count": 26,
   "id": "2d371d56",
   "metadata": {},
   "outputs": [],
   "source": [
    "# Step 4: Evaluation\n",
    "# Calculate Mean Squared Error (MSE)\n",
    "y_pred = m1 * X_test1 + m2 * X_test2 + b\n",
    "mse = np.mean((y_test - y_pred)**2)"
   ]
  },
  {
   "cell_type": "code",
   "execution_count": 27,
   "id": "ee893644",
   "metadata": {},
   "outputs": [],
   "source": [
    "# Calculate R-squared (R²)\n",
    "total_variation = np.sum((y_test - np.mean(y_test))**2)\n",
    "explained_variation = np.sum((y_pred - np.mean(y_test))**2)\n",
    "r_squared = explained_variation / total_variation"
   ]
  },
  {
   "cell_type": "code",
   "execution_count": 28,
   "id": "ce31f4cd",
   "metadata": {},
   "outputs": [],
   "source": [
    "# Calculate Adjusted R-squared (Adjusted R²)\n",
    "n = len(X_test1)\n",
    "adjusted_r_squared = 1 - (1 - r_squared) * (n - 1) / (n - 2)"
   ]
  },
  {
   "cell_type": "code",
   "execution_count": 29,
   "id": "6bd2cf40",
   "metadata": {},
   "outputs": [
    {
     "name": "stdout",
     "output_type": "stream",
     "text": [
      "Mean Squared Error (MSE): 0.8661035205845868\n",
      "R-squared (R²): 0.20028320215629772\n",
      "Adjusted R-squared (Adjusted R²): 0.17923802326567395\n"
     ]
    }
   ],
   "source": [
    "# Print the results\n",
    "print(\"Mean Squared Error (MSE):\", mse)\n",
    "print(\"R-squared (R²):\", r_squared)\n",
    "print(\"Adjusted R-squared (Adjusted R²):\", adjusted_r_squared)"
   ]
  },
  {
   "cell_type": "code",
   "execution_count": 30,
   "id": "e0fca5ae",
   "metadata": {},
   "outputs": [
    {
     "data": {
      "image/png": "[encoded data removed]",
      "text/plain": [
       "<Figure size 640x480 with 1 Axes>"
      ]
     },
     "metadata": {},
     "output_type": "display_data"
    }
   ],
   "source": [
    "# Plot the regression line and data points (for one variable, since we can't visualize two variables easily)\n",
    "plt.scatter(X_test1, y_test, label='Data Points')\n",
    "plt.plot(X_test1, y_pred, color='red', label='Regression Line')\n",
    "plt.xlabel('Mean Texture')\n",
    "plt.ylabel('Tumor Size')\n",
    "plt.legend()\n",
    "plt.show()"
   ]
  },
  {
   "cell_type": "markdown",
   "id": "2a32a73e",
   "metadata": {},
   "source": [
    "# Stepwise Linear Regression"
   ]
  },
  {
   "cell_type": "markdown",
   "id": "eb9dc728",
   "metadata": {},
   "source": [
    "### Q.3) A) Select any 5 features out of the 10 provided below. Implement forward stepwise linear regression with the chosen features. The process involves iteratively adding one feature at a time from your selection. After adding each feature, evaluate the model's performance using metrics such as Mean Squared Error, R-squared, Adjusted R-squared, or BIC-Bayesian Information Criterion (preferred). Choose the feature that contributes the most to improving the model's performance and add it to the model. Continue this iterative process for a total of 5 iterations. Explain your selection criteria for adding or removing features.\n",
    " Features: 'Mean Radius', 'Mean Perimeter', 'Mean Area', ‘Mean Smoothness’, 'Mean \n",
    " Symmetry’, ‘Mean Fractal Dimension', 'Worst Radius', 'Worst Area', 'Worst Symmetry', \n",
    " 'Lymph Node Status'"
   ]
  },
  {
   "cell_type": "code",
   "execution_count": 31,
   "id": "6d3e0fa9",
   "metadata": {},
   "outputs": [],
   "source": [
    "# Extract the target variable and the selected features\n",
    "target = data['Tumor Size']\n",
    "selected_features = ['Mean Radius', 'Mean Perimeter', 'Mean Area', 'Mean Smoothness', 'Mean Symmetry', 'Mean Fractal Dimension', 'Worst Radius', 'Worst Area', 'Worst Symmetry', 'Lymph Node Status']"
   ]
  },
  {
   "cell_type": "code",
   "execution_count": 32,
   "id": "971e4df5",
   "metadata": {},
   "outputs": [],
   "source": [
    "# Initialize an empty list to store the selected features\n",
    "selected_feature_set = []\n",
    "\n",
    "# Initialize variables to keep track of the best model and its BIC\n",
    "best_model = None\n",
    "best_bic = np.inf  # Initialize with a large value"
   ]
  },
  {
   "cell_type": "code",
   "execution_count": 33,
   "id": "c1e3a751",
   "metadata": {},
   "outputs": [],
   "source": [
    "# Loop for selecting 5 features\n",
    "for i in range(5):\n",
    "    # Initialize variables to keep track of the best feature and its BIC\n",
    "    best_feature = None\n",
    "    best_feature_bic = np.inf  # Initialize with a large value\n",
    "    \n",
    "    # Iterate through the remaining candidate features\n",
    "    for feature in selected_features:\n",
    "        # Create a copy of the selected feature set with the current candidate feature\n",
    "        feature_set = selected_feature_set + [feature]\n",
    "        \n",
    "        # Extract the data for the current feature set\n",
    "        X = data[feature_set].values\n",
    "        \n",
    "        # Fit a linear regression model (you can implement this separately)\n",
    "        # Calculate the BIC for the model\n",
    "        # BIC is a trade-off between model fit (RSS) and model complexity (number of parameters)\n",
    "        # BIC = n * ln(RSS / n) + k * ln(n), where n is the number of samples, RSS is the residual sum of squares, and k is the number of parameters (including intercept)\n",
    "        \n",
    "        # Calculate BIC for the current model\n",
    "        n = len(X)\n",
    "        rss = np.sum((target - np.dot(X, np.linalg.lstsq(X, target, rcond=None)[0]))**2)\n",
    "        k = len(feature_set) + 1  # Include an intercept term\n",
    "        bic = n * np.log(rss / n) + k * np.log(n)\n",
    "        \n",
    "        # Check if the current feature results in a better BIC\n",
    "        if bic < best_feature_bic:\n",
    "            best_feature_bic = bic\n",
    "            best_feature = feature\n",
    "    \n",
    "    # Add the best feature to the selected feature set\n",
    "    selected_feature_set.append(best_feature)\n",
    "    \n",
    "    # Remove the selected feature from the list of candidate features\n",
    "    selected_features.remove(best_feature)\n",
    "    \n",
    "    # Update the best model if the current feature set has a lower BIC\n",
    "    if best_feature_bic < best_bic:\n",
    "        best_bic = best_feature_bic\n",
    "        # Fit the best model with the current feature set (you can implement this separately)\n",
    "        best_model = np.linalg.lstsq(data[selected_feature_set].values, target, rcond=None)[0]"
   ]
  },
  {
   "cell_type": "code",
   "execution_count": 34,
   "id": "cffc5357",
   "metadata": {},
   "outputs": [
    {
     "name": "stdout",
     "output_type": "stream",
     "text": [
      "Selected Features: ['Mean Radius', 'Lymph Node Status', 'Mean Perimeter', 'Mean Area', 'Mean Symmetry']\n",
      "Best Model Coefficients: [0.13047475 0.1713249 ]\n"
     ]
    }
   ],
   "source": [
    "# Print the selected features and the best model\n",
    "print(\"Selected Features:\", selected_feature_set)\n",
    "print(\"Best Model Coefficients:\", best_model)"
   ]
  },
  {
   "cell_type": "markdown",
   "id": "5786a1c2",
   "metadata": {},
   "source": [
    "### Q.3) B) For this task, you will be given a list of 10 features as below. Implement backward stepwise linear regression, beginning with a model that includes all 10 features. Remove one feature at a time from the model and evaluate the model's performance after each removal. Remove the feature that has the minimal adverse effect on the model's performance. Continue this iterative process for a total of 5 iterations. Please provide a detailed explanation of your criteria for selecting which features to remove or retain during this process.\n",
    " Features: 'Mean Radius', 'Mean Perimeter', 'Mean Area', ‘Mean Smoothness’, 'Mean \n",
    " Symmetry’, ‘Mean Fractal Dimension', 'Worst Radius', 'Worst Area', 'Worst Symmetry', \n",
    " 'Lymph Node Status'"
   ]
  },
  {
   "cell_type": "code",
   "execution_count": 35,
   "id": "53d032e1",
   "metadata": {},
   "outputs": [],
   "source": [
    "# Extract the target variable and the selected features\n",
    "target = data['Tumor Size']\n",
    "selected_features = ['Mean Radius', 'Mean Perimeter', 'Mean Area', 'Mean Smoothness', 'Mean Symmetry', 'Mean Fractal Dimension', 'Worst Radius', 'Worst Area', 'Worst Symmetry', 'Lymph Node Status']\n",
    "\n",
    "# Initialize all features in the model\n",
    "model_features = selected_features\n",
    "\n",
    "# Initialize variables to keep track of the best model and its BIC\n",
    "best_model = None\n",
    "best_bic = np.inf  # Initialize with a large value"
   ]
  },
  {
   "cell_type": "code",
   "execution_count": 36,
   "id": "14df3d63",
   "metadata": {},
   "outputs": [],
   "source": [
    "# Loop for removing 5 features\n",
    "for i in range(5):\n",
    "    # Initialize variables to keep track of the worst feature and its BIC\n",
    "    worst_feature = None\n",
    "    worst_feature_bic = np.inf  # Initialize with a large value\n",
    "    \n",
    "    # Iterate through the features currently in the model\n",
    "    for feature in model_features:\n",
    "        # Create a copy of the model features without the current feature\n",
    "        new_model_features = [f for f in model_features if f != feature]\n",
    "        \n",
    "        # Extract the data for the current feature set\n",
    "        X = data[new_model_features].values\n",
    "        \n",
    "        # Fit a linear regression model (you can implement this separately)\n",
    "        # Calculate the BIC for the model\n",
    "        # BIC is a trade-off between model fit (RSS) and model complexity (number of parameters)\n",
    "        # BIC = n * ln(RSS / n) + k * ln(n), where n is the number of samples, RSS is the residual sum of squares, and k is the number of parameters (including intercept)\n",
    "        \n",
    "        # Calculate BIC for the current model\n",
    "        n = len(X)\n",
    "        rss = np.sum((target - np.dot(X, np.linalg.lstsq(X, target, rcond=None)[0]))**2)\n",
    "        k = len(new_model_features) + 1  # Include an intercept term\n",
    "        bic = n * np.log(rss / n) + k * np.log(n)\n",
    "        \n",
    "        # Check if the current feature results in a worse BIC\n",
    "        if bic < worst_feature_bic:\n",
    "            worst_feature_bic = bic\n",
    "            worst_feature = feature\n",
    "    \n",
    "    # Remove the worst feature from the model features\n",
    "    model_features.remove(worst_feature)\n",
    "    \n",
    "    # Update the best model if the current feature set has a lower BIC\n",
    "    if worst_feature_bic < best_bic:\n",
    "        best_bic = worst_feature_bic\n",
    "        # Fit the best model with the current feature set (you can implement this separately)\n",
    "        best_model = np.linalg.lstsq(data[model_features].values, target, rcond=None)[0]"
   ]
  },
  {
   "cell_type": "code",
   "execution_count": 37,
   "id": "4236e374",
   "metadata": {},
   "outputs": [
    {
     "name": "stdout",
     "output_type": "stream",
     "text": [
      "Remaining Features: ['Mean Symmetry', 'Worst Radius', 'Worst Area', 'Worst Symmetry', 'Lymph Node Status']\n",
      "Best Model Coefficients: [-5.69935736e+00  3.00863358e-01 -1.74381554e-03 -1.49628236e+00\n",
      "  1.71470867e-01]\n"
     ]
    }
   ],
   "source": [
    "# Print the remaining features and the best model\n",
    "print(\"Remaining Features:\", model_features)\n",
    "print(\"Best Model Coefficients:\", best_model)"
   ]
  },
  {
   "cell_type": "markdown",
   "id": "44c8ec87",
   "metadata": {},
   "source": [
    "# Model Comparison"
   ]
  },
  {
   "cell_type": "markdown",
   "id": "2bdf44b0",
   "metadata": {},
   "source": [
    "### Q.3) C) Compare the final model obtained from forward stepwise regression with the final model obtained from backward stepwise regression. Which one is better? Discuss the differences in terms of the selected features, model performance."
   ]
  },
  {
   "cell_type": "code",
   "execution_count": 38,
   "id": "29a998f0",
   "metadata": {},
   "outputs": [
    {
     "name": "stdout",
     "output_type": "stream",
     "text": [
      "Metrics for Forward Stepwise Regression Model:\n",
      "Mean Squared Error (MSE): 3.5468572050971803\n",
      "R-squared (R²): 0.05081409011481719\n",
      "Adjusted R-squared (Adjusted R²): 0.020996731689104653\n",
      "Bayesian Information Criterion (BIC): 282.40986175888577\n",
      "\n",
      "Metrics for Backward Stepwise Regression Model:\n",
      "Mean Squared Error (MSE): 2.7338176683607927\n",
      "R-squared (R²): 0.26839422594343476\n",
      "Adjusted R-squared (Adjusted R²): 0.24934199224404507\n",
      "Bayesian Information Criterion (BIC): 225.56974619148758\n"
     ]
    }
   ],
   "source": [
    "# Extract the target variable\n",
    "target = data['Tumor Size'].values\n",
    "\n",
    "# Extract the data for the selected features\n",
    "selected_features_forward = ['Mean Radius', 'Mean Perimeter', 'Mean Area', 'Mean Smoothness', 'Mean Symmetry']\n",
    "selected_features_backward = ['Mean Radius', 'Mean Perimeter', 'Worst Symmetry', 'Lymph Node Status']\n",
    "\n",
    "X_forward = data[selected_features_forward].values\n",
    "X_backward = data[selected_features_backward].values\n",
    "\n",
    "# Number of samples and number of parameters (features + intercept)\n",
    "n = len(target)\n",
    "k_forward = len(selected_features_forward) + 1  # Include an intercept term\n",
    "k_backward = len(selected_features_backward) + 1  # Include an intercept term\n",
    "\n",
    "# Calculate coefficients for linear regression (forward)\n",
    "X_forward_with_intercept = np.column_stack((np.ones(n), X_forward))\n",
    "coefficients_forward = np.linalg.lstsq(X_forward_with_intercept, target, rcond=None)[0]\n",
    "\n",
    "# Calculate coefficients for linear regression (backward)\n",
    "X_backward_with_intercept = np.column_stack((np.ones(n), X_backward))\n",
    "coefficients_backward = np.linalg.lstsq(X_backward_with_intercept, target, rcond=None)[0]\n",
    "\n",
    "# Predictions for both models\n",
    "predictions_forward = np.dot(X_forward_with_intercept, coefficients_forward)\n",
    "predictions_backward = np.dot(X_backward_with_intercept, coefficients_backward)\n",
    "\n",
    "# Calculate MSE\n",
    "mse_forward = np.mean((predictions_forward - target)**2)\n",
    "mse_backward = np.mean((predictions_backward - target)**2)\n",
    "\n",
    "# Calculate R-squared\n",
    "ssr_forward = np.sum((target - predictions_forward)**2)\n",
    "sst_forward = np.sum((target - np.mean(target))**2)\n",
    "r_squared_forward = 1 - (ssr_forward / sst_forward)\n",
    "\n",
    "ssr_backward = np.sum((target - predictions_backward)**2)\n",
    "sst_backward = np.sum((target - np.mean(target))**2)\n",
    "r_squared_backward = 1 - (ssr_backward / sst_backward)\n",
    "\n",
    "# Calculate Adjusted R-squared\n",
    "adjusted_r_squared_forward = 1 - ((1 - r_squared_forward) * (n - 1) / (n - k_forward - 1))\n",
    "adjusted_r_squared_backward = 1 - ((1 - r_squared_backward) * (n - 1) / (n - k_backward - 1))\n",
    "\n",
    "# Calculate BIC for both models\n",
    "rss_forward = np.sum((target - predictions_forward)**2)\n",
    "bic_forward = n * np.log(rss_forward / n) + k_forward * np.log(n)\n",
    "\n",
    "rss_backward = np.sum((target - predictions_backward)**2)\n",
    "bic_backward = n * np.log(rss_backward / n) + k_backward * np.log(n)\n",
    "\n",
    "# Print the results\n",
    "print(\"Metrics for Forward Stepwise Regression Model:\")\n",
    "print(\"Mean Squared Error (MSE):\", mse_forward)\n",
    "print(\"R-squared (R²):\", r_squared_forward)\n",
    "print(\"Adjusted R-squared (Adjusted R²):\", adjusted_r_squared_forward)\n",
    "print(\"Bayesian Information Criterion (BIC):\", bic_forward)\n",
    "\n",
    "print(\"\\nMetrics for Backward Stepwise Regression Model:\")\n",
    "print(\"Mean Squared Error (MSE):\", mse_backward)\n",
    "print(\"R-squared (R²):\", r_squared_backward)\n",
    "print(\"Adjusted R-squared (Adjusted R²):\", adjusted_r_squared_backward)\n",
    "print(\"Bayesian Information Criterion (BIC):\", bic_backward)"
   ]
  },
  {
   "cell_type": "code",
   "execution_count": 39,
   "id": "a1cf55be",
   "metadata": {},
   "outputs": [
    {
     "data": {
      "image/png": "[encoded data removed]",
      "text/plain": [
       "<Figure size 1200x600 with 2 Axes>"
      ]
     },
     "metadata": {},
     "output_type": "display_data"
    }
   ],
   "source": [
    "# Create scatter plots\n",
    "plt.figure(figsize=(12, 6))\n",
    "plt.subplot(1, 2, 1)\n",
    "plt.scatter(target, predictions_forward, label='Forward Model', color='blue', alpha=0.7)\n",
    "plt.plot(target, target, color='red', linestyle='--', label='Regression Line')\n",
    "plt.xlabel('Actual Tumor Size')\n",
    "plt.ylabel('Predicted Tumor Size')\n",
    "plt.title('Forward Stepwise Regression')\n",
    "plt.legend()\n",
    "\n",
    "plt.subplot(1, 2, 2)\n",
    "plt.scatter(target, predictions_backward, label='Backward Model', color='green', alpha=0.7)\n",
    "plt.plot(target, target, color='red', linestyle='--', label='Regression Line')\n",
    "plt.xlabel('Actual Tumor Size')\n",
    "plt.ylabel('Predicted Tumor Size')\n",
    "plt.title('Backward Stepwise Regression')\n",
    "plt.legend()\n",
    "\n",
    "plt.tight_layout()\n",
    "plt.show()"
   ]
  },
  {
   "cell_type": "code",
   "execution_count": 40,
   "id": "bde205d2",
   "metadata": {},
   "outputs": [
    {
     "data": {
      "image/png": "[encoded data removed]",
      "text/plain": [
       "<Figure size 1200x800 with 4 Axes>"
      ]
     },
     "metadata": {},
     "output_type": "display_data"
    }
   ],
   "source": [
    "# Create arrays for metric values and labels\n",
    "metrics = ['MSE', 'R-squared', 'Adjusted R-squared', 'BIC']\n",
    "forward_values = [mse_forward, r_squared_forward, adjusted_r_squared_forward, bic_forward]\n",
    "backward_values = [mse_backward, r_squared_backward, adjusted_r_squared_backward, bic_backward]\n",
    "\n",
    "# Create subplots for each metric\n",
    "fig, axes = plt.subplots(2, 2, figsize=(12, 8))\n",
    "fig.suptitle('Model Evaluation Metrics Comparison', fontsize=16)\n",
    "\n",
    "for i, ax in enumerate(axes.ravel()):\n",
    "    ax.bar(['Forward', 'Backward'], [forward_values[i], backward_values[i]], color=['b', 'g'])\n",
    "    ax.set_title(metrics[i])\n",
    "    ax.set_ylabel(metrics[i])\n",
    "    ax.set_ylim(0, max(forward_values[i], backward_values[i]) + 0.2)\n",
    "\n",
    "plt.tight_layout()\n",
    "plt.subplots_adjust(top=0.85)\n",
    "plt.show()"
   ]
  },
  {
   "cell_type": "markdown",
   "id": "4c90ba8c",
   "metadata": {},
   "source": [
    "# Discussion on Results"
   ]
  },
  {
   "cell_type": "markdown",
   "id": "6df40a8a",
   "metadata": {},
   "source": [
    "In terms of model performance, the Backward Stepwise Regression Model outperforms the Forward Stepwise Regression Model in several aspects:\n",
    "\n",
    "<ol><li>Mean Squared Error (MSE): The Backward model has a lower MSE (2.734) compared to the Forward model (3.547), indicating that it provides better predictive accuracy. A lower MSE signifies that the model's predictions are closer to the actual values.\n",
    "\n",
    "<li>R-squared (R²): The R² value for the Backward model (0.268) is significantly higher than that of the Forward model (0.051). A higher R² indicates that a larger proportion of the variance in the target variable is explained by the model. In this case, the Backward model explains more of the variance in Tumor Size.\n",
    "\n",
    "<li>Adjusted R-squared (Adjusted R²): Similar to R², the Adjusted R² of the Backward model (0.249) is higher than that of the Forward model (0.021). Adjusted R² accounts for the number of features used in the model, and the Backward model maintains a better balance between model complexity and goodness of fit.\n",
    "\n",
    "<li>Bayesian Information Criterion (BIC): The BIC for the Backward model (225.570) is lower than that of the Forward model (282.410). Lower BIC values indicate a better trade-off between model fit and complexity. The Backward model achieves a more favorable balance.</ol>\n",
    "\n",
    "<B>Selected Features:</B>\n",
    "<ul><li>Forward Stepwise Regression: ['Mean Radius', 'Mean Perimeter', 'Mean Area', 'Mean Smoothness', 'Mean Symmetry']\n",
    "<li>Backward Stepwise Regression: ['Mean Radius', 'Mean Perimeter', 'Worst Symmetry', 'Lymph Node Status']</ul>\n",
    "In terms of feature selection, the Backward Stepwise Regression Model chooses a more parsimonious set of features, which can lead to a more interpretable and efficient model. It selects 'Worst Symmetry' and 'Lymph Node Status' as relevant features, while the Forward model includes additional features. This indicates that the Backward model identifies a more effective subset of predictors that contribute significantly to predicting Tumor Size.\n",
    "\n",
    "Overall, based on the lower MSE, higher R-squared values, and lower BIC, the Backward Stepwise Regression Model is superior in terms of predictive performance and model simplicity. It provides a more accurate and efficient representation of the relationship between the selected features and Tumor Size compared to the Forward model."
   ]
  },
  {
   "cell_type": "markdown",
   "id": "1abed33e",
   "metadata": {},
   "source": [
    "### Q.3) D) Compare the performance of the model built using the features from Q.2 (a) with the resultant accuracies of the model built using the selected features Q.3(c). Which set of features performed better?"
   ]
  },
  {
   "cell_type": "markdown",
   "id": "e65ad51b",
   "metadata": {},
   "source": [
    "<B>Comparing the performance:</B>\n",
    "\n",
    "<ul><li>The model in Q.2 (a) with the features used there achieved the lowest MSE (0.866) and the highest R-squared (0.200) among all the models. It appears to perform better in terms of predictive accuracy and explains more variance in the target variable.\n",
    "\n",
    "<li>In contrast, both the Forward and Backward Stepwise Regression Models in Q.3 (c) have higher MSE values and lower R-squared values compared to the model in Q.2 (a). This indicates that the models in Q.3 (c) are less accurate in predicting Tumor Size and explain less of the variance in the target variable.\n",
    "\n",
    "<li>The BIC values also support the superiority of the model in Q.2 (a) with the original features. It has a lower BIC value (indicating a better trade-off between fit and complexity) compared to the models in Q.3 (c).</ul>\n",
    "\n",
    "In conclusion, the model built using the features from Q.2 (a) performed better in terms of predictive accuracy and model fit compared to the models in Q.3 (c) obtained through stepwise regression. Therefore, the original set of features in Q.2 (a) is more effective for predicting Tumor Size."
   ]
  },
  {
   "cell_type": "markdown",
   "id": "879957a3",
   "metadata": {},
   "source": [
    "# Regularization and Feature Scaling"
   ]
  },
  {
   "cell_type": "markdown",
   "id": "4c669e6d",
   "metadata": {},
   "source": [
    "### Regularization on Q.2)A) "
   ]
  },
  {
   "cell_type": "code",
   "execution_count": 41,
   "id": "84b1b86f",
   "metadata": {},
   "outputs": [
    {
     "name": "stdout",
     "output_type": "stream",
     "text": [
      "Mean Squared Error (MSE): 0.8594423783243712\n",
      "R-squared (R²): 0.16692130924889775\n",
      "Adjusted R-squared (Adjusted R²): 0.14499818580807922\n"
     ]
    }
   ],
   "source": [
    "# Define the regularization parameter (lambda)\n",
    "lambda_reg = 0.1\n",
    "\n",
    "# Step 2: Linear Regression Model with Two Variables and Ridge Regularization\n",
    "def linear_regression_with_ridge(X1, X2, y, learning_rate, num_iterations, lambda_reg):\n",
    "    m1, m2, b = 0.1, 0.1, 0.1  # Initialize model parameters (small values)\n",
    "    n = len(X1)  # Number of data points\n",
    "\n",
    "    for _ in range(num_iterations):\n",
    "        # Predicted values\n",
    "        y_pred = m1 * X1 + m2 * X2 + b\n",
    "\n",
    "        # Calculate gradients with regularization\n",
    "        dm1 = (-2/n) * np.sum(X1 * (y - y_pred)) + (2 * lambda_reg * m1)\n",
    "        dm2 = (-2/n) * np.sum(X2 * (y - y_pred)) + (2 * lambda_reg * m2)\n",
    "        db = (-2/n) * np.sum(y - y_pred)\n",
    "\n",
    "        # Update parameters using gradient descent\n",
    "        m1 -= learning_rate * dm1\n",
    "        m2 -= learning_rate * dm2\n",
    "        b -= learning_rate * db\n",
    "\n",
    "    return m1, m2, b\n",
    "\n",
    "# Step 3: Training with Regularization\n",
    "learning_rate = 0.01  # Adjust the learning rate as needed\n",
    "num_iterations = 1000\n",
    "m1, m2, b = linear_regression_with_ridge(X_train1, X_train2, y_train, learning_rate, num_iterations, lambda_reg)\n",
    "\n",
    "# Step 4: Evaluation\n",
    "# Calculate Mean Squared Error (MSE)\n",
    "y_pred = m1 * X_test1 + m2 * X_test2 + b\n",
    "mse = np.mean((y_test - y_pred)**2)\n",
    "# Calculate R-squared (R²)\n",
    "total_variation = np.sum((y_test - np.mean(y_test))**2)\n",
    "explained_variation = np.sum((y_pred - np.mean(y_test))**2)\n",
    "r_squared = explained_variation / total_variation\n",
    "# Calculate Adjusted R-squared (Adjusted R²)\n",
    "n = len(X_test1)\n",
    "adjusted_r_squared = 1 - (1 - r_squared) * (n - 1) / (n - 2)\n",
    "# Print the results\n",
    "print(\"Mean Squared Error (MSE):\", mse)\n",
    "print(\"R-squared (R²):\", r_squared)\n",
    "print(\"Adjusted R-squared (Adjusted R²):\", adjusted_r_squared)"
   ]
  },
  {
   "cell_type": "markdown",
   "id": "17071ba9",
   "metadata": {},
   "source": [
    "### Regularisation on Q.3)C) "
   ]
  },
  {
   "cell_type": "code",
   "execution_count": 42,
   "id": "174378a6",
   "metadata": {},
   "outputs": [
    {
     "name": "stdout",
     "output_type": "stream",
     "text": [
      "Metrics for Forward Stepwise Regression Model with Ridge Regularization:\n",
      "Mean Squared Error (MSE): 3.5635914591526228\n",
      "R-squared (R²): 0.04633578235011826\n",
      "Adjusted R-squared (Adjusted R²): 0.016377744099336677\n",
      "\n",
      "Metrics for Backward Stepwise Regression Model with Ridge Regularization:\n",
      "Mean Squared Error (MSE): 2.7343066367016\n",
      "R-squared (R²): 0.26826337154681357\n",
      "Adjusted R-squared (Adjusted R²): 0.2492077301808452\n"
     ]
    }
   ],
   "source": [
    "# Extract the target variable\n",
    "target = data['Tumor Size'].values\n",
    "\n",
    "# Extract the data for the selected features\n",
    "selected_features_forward = ['Mean Radius', 'Mean Perimeter', 'Mean Area', 'Mean Smoothness', 'Mean Symmetry']\n",
    "selected_features_backward = ['Mean Radius', 'Mean Perimeter', 'Worst Symmetry', 'Lymph Node Status']\n",
    "\n",
    "X_forward = data[selected_features_forward].values\n",
    "X_backward = data[selected_features_backward].values\n",
    "\n",
    "# Number of samples and number of parameters (features + intercept)\n",
    "n = len(target)\n",
    "k_forward = len(selected_features_forward) + 1  # Include an intercept term\n",
    "k_backward = len(selected_features_backward) + 1  # Include an intercept term\n",
    "\n",
    "# Regularization parameter (lambda)\n",
    "lambda_reg = 0.1  # You can adjust this value as needed\n",
    "\n",
    "# Calculate coefficients for linear regression (forward) with Ridge regularization\n",
    "X_forward_with_intercept = np.column_stack((np.ones(n), X_forward))\n",
    "coefficients_forward = np.linalg.lstsq(X_forward_with_intercept.T @ X_forward_with_intercept + lambda_reg * np.eye(k_forward),\n",
    "                                      X_forward_with_intercept.T @ target, rcond=None)[0]\n",
    "\n",
    "# Calculate coefficients for linear regression (backward) with Ridge regularization\n",
    "X_backward_with_intercept = np.column_stack((np.ones(n), X_backward))\n",
    "coefficients_backward = np.linalg.lstsq(X_backward_with_intercept.T @ X_backward_with_intercept + lambda_reg * np.eye(k_backward),\n",
    "                                        X_backward_with_intercept.T @ target, rcond=None)[0]\n",
    "\n",
    "# Predictions for both models\n",
    "predictions_forward = np.dot(X_forward_with_intercept, coefficients_forward)\n",
    "predictions_backward = np.dot(X_backward_with_intercept, coefficients_backward)\n",
    "\n",
    "# Calculate MSE\n",
    "mse_forward = np.mean((predictions_forward - target)**2)\n",
    "mse_backward = np.mean((predictions_backward - target)**2)\n",
    "\n",
    "# Calculate R-squared\n",
    "ssr_forward = np.sum((target - predictions_forward)**2)\n",
    "sst_forward = np.sum((target - np.mean(target))**2)\n",
    "r_squared_forward = 1 - (ssr_forward / sst_forward)\n",
    "\n",
    "ssr_backward = np.sum((target - predictions_backward)**2)\n",
    "sst_backward = np.sum((target - np.mean(target))**2)\n",
    "r_squared_backward = 1 - (ssr_backward / sst_backward)\n",
    "\n",
    "# Calculate Adjusted R-squared\n",
    "adjusted_r_squared_forward = 1 - ((1 - r_squared_forward) * (n - 1) / (n - k_forward - 1))\n",
    "adjusted_r_squared_backward = 1 - ((1 - r_squared_backward) * (n - 1) / (n - k_backward - 1))\n",
    "\n",
    "# Print the results\n",
    "print(\"Metrics for Forward Stepwise Regression Model with Ridge Regularization:\")\n",
    "print(\"Mean Squared Error (MSE):\", mse_forward)\n",
    "print(\"R-squared (R²):\", r_squared_forward)\n",
    "print(\"Adjusted R-squared (Adjusted R²):\", adjusted_r_squared_forward)\n",
    "\n",
    "print(\"\\nMetrics for Backward Stepwise Regression Model with Ridge Regularization:\")\n",
    "print(\"Mean Squared Error (MSE):\", mse_backward)\n",
    "print(\"R-squared (R²):\", r_squared_backward)\n",
    "print(\"Adjusted R-squared (Adjusted R²):\", adjusted_r_squared_backward)"
   ]
  },
  {
   "cell_type": "markdown",
   "id": "c13e3d6f",
   "metadata": {},
   "source": [
    "### Q.4) A) For the best performing model in Q.3 (Model from Q.3(d)), does regularization improve the performance?"
   ]
  },
  {
   "cell_type": "markdown",
   "id": "54b60645",
   "metadata": {},
   "source": [
    "<p>For the best-performing model, which is the backward stepwise regression model without regularization, introducing Ridge regularization does not appear to improve the performance significantly in terms of Mean Squared Error (MSE), R-squared (R²), and Adjusted R-squared (Adjusted R²).\n",
    "\n",
    "Here's a summary of the performance changes:\n",
    "\n",
    "<B>Without Regularization:</B>\n",
    "\n",
    "<ul><li>Backward Stepwise Regression Model:\n",
    "<ul><li>MSE: 2.7338176683607927\n",
    "<li>R²: 0.26839422594343476\n",
    "<li>Adjusted R²: 0.24934199224404507</li></ul>\n",
    "<B>With Regularization:</B>\n",
    "<li>Backward Stepwise Regression Model with Ridge Regularization:</li></ul>\n",
    "<ul><li>MSE: 2.7343066367016\n",
    "<li>R²: 0.26826337154681357\n",
    "<li>Adjusted R²: 0.2492077301808452</ul>\n",
    "As seen, the introduction of Ridge regularization slightly increases the MSE and slightly decreases R² and Adjusted R². In this case, regularization doesn't provide a significant improvement in model performance. "
   ]
  },
  {
   "cell_type": "markdown",
   "id": "2f438789",
   "metadata": {},
   "source": [
    "## Feature Scaling"
   ]
  },
  {
   "cell_type": "markdown",
   "id": "defc9078",
   "metadata": {},
   "source": [
    "### Feature Scaling on Q.2) A)"
   ]
  },
  {
   "cell_type": "code",
   "execution_count": 43,
   "id": "592c8a02",
   "metadata": {},
   "outputs": [
    {
     "name": "stdout",
     "output_type": "stream",
     "text": [
      "Mean Squared Error (MSE): 0.8838602716093107\n",
      "R-squared (R²): 0.24067040537751858\n",
      "Adjusted R-squared (Adjusted R²): 0.2206880476242954\n"
     ]
    }
   ],
   "source": [
    "# Define the regularization parameter (lambda)\n",
    "lambda_reg = 0.1\n",
    "\n",
    "# Step 1: Feature Scaling\n",
    "# Standardize the input features\n",
    "def standardize_feature(feature):\n",
    "    return (feature - np.mean(feature)) / np.std(feature)\n",
    "\n",
    "X_train1_standardized = standardize_feature(X_train1)\n",
    "X_train2_standardized = standardize_feature(X_train2)\n",
    "X_test1_standardized = standardize_feature(X_test1)\n",
    "X_test2_standardized = standardize_feature(X_test2)\n",
    "\n",
    "# Step 2: Linear Regression Model with Two Variables and Ridge Regularization\n",
    "def linear_regression_with_ridge(X1, X2, y, learning_rate, num_iterations, lambda_reg):\n",
    "    m1, m2, b = 0.1, 0.1, 0.1  # Initialize model parameters (small values)\n",
    "    n = len(X1)  # Number of data points\n",
    "\n",
    "    for _ in range(num_iterations):\n",
    "        # Predicted values\n",
    "        y_pred = m1 * X1 + m2 * X2 + b\n",
    "\n",
    "        # Calculate gradients with regularization\n",
    "        dm1 = (-2/n) * np.sum(X1 * (y - y_pred)) + (2 * lambda_reg * m1)\n",
    "        dm2 = (-2/n) * np.sum(X2 * (y - y_pred)) + (2 * lambda_reg * m2)\n",
    "        db = (-2/n) * np.sum(y - y_pred)\n",
    "\n",
    "        # Update parameters using gradient descent\n",
    "        m1 -= learning_rate * dm1\n",
    "        m2 -= learning_rate * dm2\n",
    "        b -= learning_rate * db\n",
    "\n",
    "    return m1, m2, b\n",
    "\n",
    "# Step 3: Training with Regularization\n",
    "learning_rate = 0.01  # Adjust the learning rate as needed\n",
    "num_iterations = 1000\n",
    "m1, m2, b = linear_regression_with_ridge(X_train1_standardized, X_train2_standardized, y_train, learning_rate, num_iterations, lambda_reg)\n",
    "\n",
    "# Step 4: Evaluation\n",
    "# Calculate Mean Squared Error (MSE)\n",
    "y_pred = m1 * X_test1_standardized + m2 * X_test2_standardized + b\n",
    "mse = np.mean((y_test - y_pred)**2)\n",
    "# Calculate R-squared (R²)\n",
    "total_variation = np.sum((y_test - np.mean(y_test))**2)\n",
    "explained_variation = np.sum((y_pred - np.mean(y_test))**2)\n",
    "r_squared = explained_variation / total_variation\n",
    "# Calculate Adjusted R-squared (Adjusted R²)\n",
    "n = len(X_test1_standardized)\n",
    "adjusted_r_squared = 1 - (1 - r_squared) * (n - 1) / (n - 2)\n",
    "# Print the results\n",
    "print(\"Mean Squared Error (MSE):\", mse)\n",
    "print(\"R-squared (R²):\", r_squared)\n",
    "print(\"Adjusted R-squared (Adjusted R²):\", adjusted_r_squared)"
   ]
  },
  {
   "cell_type": "markdown",
   "id": "8c07390e",
   "metadata": {},
   "source": [
    "### Feature Scaling on Q.3)C)"
   ]
  },
  {
   "cell_type": "code",
   "execution_count": 44,
   "id": "6474af68",
   "metadata": {},
   "outputs": [
    {
     "name": "stdout",
     "output_type": "stream",
     "text": [
      "Metrics for Forward Stepwise Regression Model with Ridge Regularization:\n",
      "Mean Squared Error (MSE): 3.5468635187823376\n",
      "R-squared (R²): 0.05081240048914448\n",
      "Adjusted R-squared (Adjusted R²): 0.02099498898618568\n",
      "\n",
      "Metrics for Backward Stepwise Regression Model with Ridge Regularization:\n",
      "Mean Squared Error (MSE): 2.7339003342865156\n",
      "R-squared (R²): 0.2683721034481138\n",
      "Adjusted R-squared (Adjusted R²): 0.24931929364207506\n"
     ]
    }
   ],
   "source": [
    "# Extract the target variable\n",
    "target = data['Tumor Size'].values\n",
    "\n",
    "# Extract the data for the selected features\n",
    "selected_features_forward = ['Mean Radius', 'Mean Perimeter', 'Mean Area', 'Mean Smoothness', 'Mean Symmetry']\n",
    "selected_features_backward = ['Mean Radius', 'Mean Perimeter', 'Worst Symmetry', 'Lymph Node Status']\n",
    "\n",
    "X_forward = data[selected_features_forward].values\n",
    "X_backward = data[selected_features_backward].values\n",
    "\n",
    "# Standardize the input features\n",
    "def standardize_features(features):\n",
    "    mean = np.mean(features, axis=0)\n",
    "    std = np.std(features, axis=0)\n",
    "    standardized_features = (features - mean) / std\n",
    "    return standardized_features\n",
    "\n",
    "X_forward = standardize_features(X_forward)\n",
    "X_backward = standardize_features(X_backward)\n",
    "\n",
    "# Number of samples and number of parameters (features + intercept)\n",
    "n = len(target)\n",
    "k_forward = len(selected_features_forward) + 1  # Include an intercept term\n",
    "k_backward = len(selected_features_backward) + 1  # Include an intercept term\n",
    "\n",
    "# Regularization parameter (lambda)\n",
    "lambda_reg = 0.1  # You can adjust this value as needed\n",
    "\n",
    "# Calculate coefficients for linear regression (forward) with Ridge regularization\n",
    "X_forward_with_intercept = np.column_stack((np.ones(n), X_forward))\n",
    "coefficients_forward = np.linalg.lstsq(X_forward_with_intercept.T @ X_forward_with_intercept + lambda_reg * np.eye(k_forward),\n",
    "                                      X_forward_with_intercept.T @ target, rcond=None)[0]\n",
    "\n",
    "# Calculate coefficients for linear regression (backward) with Ridge regularization\n",
    "X_backward_with_intercept = np.column_stack((np.ones(n), X_backward))\n",
    "coefficients_backward = np.linalg.lstsq(X_backward_with_intercept.T @ X_backward_with_intercept + lambda_reg * np.eye(k_backward),\n",
    "                                        X_backward_with_intercept.T @ target, rcond=None)[0]\n",
    "\n",
    "# Predictions for both models\n",
    "predictions_forward = np.dot(X_forward_with_intercept, coefficients_forward)\n",
    "predictions_backward = np.dot(X_backward_with_intercept, coefficients_backward)\n",
    "\n",
    "# Calculate MSE\n",
    "mse_forward = np.mean((predictions_forward - target)**2)\n",
    "mse_backward = np.mean((predictions_backward - target)**2)\n",
    "\n",
    "# Calculate R-squared\n",
    "ssr_forward = np.sum((target - predictions_forward)**2)\n",
    "sst_forward = np.sum((target - np.mean(target))**2)\n",
    "r_squared_forward = 1 - (ssr_forward / sst_forward)\n",
    "\n",
    "ssr_backward = np.sum((target - predictions_backward)**2)\n",
    "sst_backward = np.sum((target - np.mean(target))**2)\n",
    "r_squared_backward = 1 - (ssr_backward / sst_backward)\n",
    "\n",
    "# Calculate Adjusted R-squared\n",
    "adjusted_r_squared_forward = 1 - ((1 - r_squared_forward) * (n - 1) / (n - k_forward - 1))\n",
    "adjusted_r_squared_backward = 1 - ((1 - r_squared_backward) * (n - 1) / (n - k_backward - 1))\n",
    "\n",
    "# Print the results\n",
    "print(\"Metrics for Forward Stepwise Regression Model with Ridge Regularization:\")\n",
    "print(\"Mean Squared Error (MSE):\", mse_forward)\n",
    "print(\"R-squared (R²):\", r_squared_forward)\n",
    "print(\"Adjusted R-squared (Adjusted R²):\", adjusted_r_squared_forward)\n",
    "\n",
    "print(\"\\nMetrics for Backward Stepwise Regression Model with Ridge Regularization:\")\n",
    "print(\"Mean Squared Error (MSE):\", mse_backward)\n",
    "print(\"R-squared (R²):\", r_squared_backward)\n",
    "print(\"Adjusted R-squared (Adjusted R²):\", adjusted_r_squared_backward)"
   ]
  },
  {
   "cell_type": "markdown",
   "id": "26a1238a",
   "metadata": {},
   "source": [
    "### Discussion"
   ]
  },
  {
   "cell_type": "markdown",
   "id": "f570b378",
   "metadata": {},
   "source": [
    "Q.2) A) As seen, the MSE increased, and the R-squared and adjusted R-squared values also increased slightly when feature scaling was applied. Generally, feature scaling is beneficial when the features have different scales, and it can help the optimization process converge faster. However, in some cases, particularly when the data is already on a similar scale or when the scaling process introduces noise, it may not lead to improved performance.\n",
    "\n",
    "In this specific case, it appears that feature scaling did not significantly improve the model's performance, and it even slightly reduced the performance in terms of MSE and adjusted R-squared. Therefore, whether feature scaling is beneficial or not can depend on the characteristics of the dataset and the algorithm being used."
   ]
  },
  {
   "cell_type": "markdown",
   "id": "e5fbc422",
   "metadata": {},
   "source": [
    "Q.3)C) As we can see, the metrics for both forward and backward stepwise regression models, with or without ridge regularization, are quite similar between the scenarios with and without feature scaling. Therefore, in this specific case, feature scaling does not appear to have a significant impact on model performance.\n",
    "\n",
    "However, it's important to note that the effect of feature scaling can vary depending on the dataset and the specific machine learning algorithm used. In some cases, feature scaling can be crucial for certain algorithms that are sensitive to feature scales, such as gradient descent-based optimization methods."
   ]
  },
  {
   "cell_type": "code",
   "execution_count": null,
   "id": "5570b575",
   "metadata": {},
   "outputs": [],
   "source": []
  }
 ],
 "metadata": {
  "kernelspec": {
   "display_name": "Python 3 (ipykernel)",
   "language": "python",
   "name": "python3"
  },
  "language_info": {
   "codemirror_mode": {
    "name": "ipython",
    "version": 3
   },
   "file_extension": ".py",
   "mimetype": "text/x-python",
   "name": "python",
   "nbconvert_exporter": "python",
   "pygments_lexer": "ipython3",
   "version": "3.9.13"
  }
 },
 "nbformat": 4,
 "nbformat_minor": 5
}
